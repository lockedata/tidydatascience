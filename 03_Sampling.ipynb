{
 "cells": [
  {
   "cell_type": "markdown",
   "metadata": {
    "collapsed": true
   },
   "source": [
    "# Sampling\n",
    "Sampling data and on wards is a current area of much work in the tidyverse. This stuff is likely to change over the next year or two.\n",
    "\n",
    "![](https://github.com/tidymodels/rsample/blob/master/vignettes/Applications/diagram.png?raw=true)"
   ]
  },
  {
   "cell_type": "code",
   "execution_count": 5,
   "metadata": {},
   "outputs": [
    {
     "name": "stderr",
     "output_type": "stream",
     "text": [
      "Installing package into ‘/home/nbuser/R’\n",
      "(as ‘lib’ is unspecified)\n",
      "Warning message in install.packages(\"ddalpha\", repos = \"https://cran.rstudio.com\"):\n",
      "“installation of package ‘ddalpha’ had non-zero exit status”"
     ]
    }
   ],
   "source": [
    "install.packages(c(\"tidyverse\",\"recipes\", \"rsample\"))\n",
    "library(tidyverse)\n",
    "heroes = read_csv(\"data/heroes_information.csv\")\n",
    "powers = read_csv(\"data/super_hero_powers.csv\")"
   ]
  },
  {
   "cell_type": "markdown",
   "metadata": {},
   "source": [
    "## Basic sampling\n",
    "We can use `rsample` to build a simple train / test split. This is currently problematic on this hosting service! :o"
   ]
  },
  {
   "cell_type": "code",
   "execution_count": 2,
   "metadata": {},
   "outputs": [
    {
     "ename": "ERROR",
     "evalue": "Error in library(rsample): there is no package called ‘rsample’\n",
     "output_type": "error",
     "traceback": [
      "Error in library(rsample): there is no package called ‘rsample’\nTraceback:\n",
      "1. library(rsample)",
      "2. stop(txt, domain = NA)"
     ]
    }
   ],
   "source": [
    "library(rsample)\n",
    "heroes_split = initial_split(heroes, prop=.7)\n",
    "heroes_train = training(heroes_split)\n",
    "heroes_test = testing(heroes_split)"
   ]
  },
  {
   "cell_type": "markdown",
   "metadata": {},
   "source": [
    "## Next level sampling \n",
    "We can then do cross-validation and bootstrapping easily."
   ]
  },
  {
   "cell_type": "code",
   "execution_count": null,
   "metadata": {},
   "outputs": [],
   "source": [
    "heroes_cross = vfold_cv(heroes_cross, V = 10, repeats = 10)"
   ]
  },
  {
   "cell_type": "code",
   "execution_count": 6,
   "metadata": {},
   "outputs": [
    {
     "ename": "ERROR",
     "evalue": "Error in bootstraps(heroes_train, times = 50): could not find function \"bootstraps\"\n",
     "output_type": "error",
     "traceback": [
      "Error in bootstraps(heroes_train, times = 50): could not find function \"bootstraps\"\nTraceback:\n"
     ]
    }
   ],
   "source": [
    "heroes_boot = bootstraps(heroes_train, times = 50)"
   ]
  },
  {
   "cell_type": "markdown",
   "metadata": {},
   "source": [
    "## Repeatable feature engineering\n",
    "We can then use the `recipes` package to produce reusable feature engineering models that retain hyperparameters from the training data. This makes it ideal for procesing test, validation, and production data.\n",
    "\n",
    "We have a few core bits of vocabulary to think about:\n",
    "- a `recipe` is a set of instructions from getting something done\n",
    "- a `step` is a specific part of the recipe\n",
    "- a `prep`ared recipe is one where you've worked out what you need to do in your steps in relation to your specific ingredients\n",
    "- a `baked` dataset is one that has had the prepared recipe applied to it\n",
    "- we can squeeze the prepared model i.e. `juice` it, to extract stuff like resampled rows\n",
    "\n",
    "There are many `steps` we can use in our recipes and we can also write our own custom steps."
   ]
  },
  {
   "cell_type": "code",
   "execution_count": null,
   "metadata": {},
   "outputs": [],
   "source": []
  }
 ],
 "metadata": {
  "kernelspec": {
   "display_name": "R",
   "language": "R",
   "name": "r"
  },
  "language_info": {
   "codemirror_mode": "r",
   "file_extension": ".r",
   "mimetype": "text/x-r-source",
   "name": "R",
   "pygments_lexer": "r",
   "version": "3.4.1"
  }
 },
 "nbformat": 4,
 "nbformat_minor": 2
}
